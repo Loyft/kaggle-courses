{
 "cells": [
  {
   "cell_type": "code",
   "execution_count": null,
   "id": "fb6291ef",
   "metadata": {},
   "outputs": [],
   "source": [
    "# modules we'll use\n",
    "import pandas as pd\n",
    "import numpy as np\n",
    "\n",
    "# helpful character encoding module\n",
    "import chardet\n",
    "\n",
    "# set seed for reproducibility\n",
    "np.random.seed(0)\n",
    "\n",
    "sample_entry = b'\\xa7A\\xa6n'\n",
    "print(sample_entry)\n",
    "print('data type:', type(sample_entry))\n",
    "\n",
    "before = sample_entry.decode(\"big5-tw\")\n",
    "new_entry = before.encode()"
   ]
  },
  {
   "cell_type": "markdown",
   "id": "fd07e0a2",
   "metadata": {},
   "source": [
    "### Reading in files with encoding problems"
   ]
  },
  {
   "cell_type": "code",
   "execution_count": null,
   "id": "ddd5a343",
   "metadata": {},
   "outputs": [],
   "source": [
    "police_killings = pd.read_csv(\"../input/fatal-police-shootings-in-the-us/PoliceKillingsUS.csv\", encoding='Windows-1252')"
   ]
  },
  {
   "cell_type": "markdown",
   "id": "0bf1ace5",
   "metadata": {},
   "source": [
    "### Saving your files with UTF-8 encoding"
   ]
  },
  {
   "cell_type": "code",
   "execution_count": null,
   "id": "430f4165",
   "metadata": {},
   "outputs": [],
   "source": [
    "police_killings.to_csv(\"my_file.csv\")"
   ]
  }
 ],
 "metadata": {
  "kernelspec": {
   "display_name": "Python 3",
   "language": "python",
   "name": "python3"
  },
  "language_info": {
   "codemirror_mode": {
    "name": "ipython",
    "version": 3
   },
   "file_extension": ".py",
   "mimetype": "text/x-python",
   "name": "python",
   "nbconvert_exporter": "python",
   "pygments_lexer": "ipython3",
   "version": "3.8.8"
  }
 },
 "nbformat": 4,
 "nbformat_minor": 5
}
