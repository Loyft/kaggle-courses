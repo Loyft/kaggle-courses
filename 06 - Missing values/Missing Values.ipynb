{
 "cells": [
  {
   "cell_type": "code",
   "execution_count": null,
   "id": "136616c4",
   "metadata": {},
   "outputs": [],
   "source": [
    "# modules we'll use\n",
    "import pandas as pd\n",
    "import numpy as np\n",
    "\n",
    "# read in all our data\n",
    "sf_permits = pd.read_csv(\"../input/building-permit-applications-data/Building_Permits.csv\")\n",
    "\n",
    "# set seed for reproducibility\n",
    "np.random.seed(0) "
   ]
  },
  {
   "cell_type": "markdown",
   "id": "834ea1d0",
   "metadata": {},
   "source": [
    "### How many missing data points do we have?"
   ]
  },
  {
   "cell_type": "code",
   "execution_count": null,
   "id": "110a5ecd",
   "metadata": {},
   "outputs": [],
   "source": [
    "# get the number of missing data points per column\n",
    "missing_values_count = sf_permits.isnull().sum()\n",
    "\n",
    "# how many total missing values do we have?\n",
    "total_cells = np.product(sf_permits.shape)\n",
    "total_missing = missing_values_count.sum()\n",
    "\n",
    "# percent of data that is missing\n",
    "percent_missing = (total_missing/total_cells) * 100"
   ]
  },
  {
   "cell_type": "markdown",
   "id": "f5e175a9",
   "metadata": {},
   "source": [
    "### Drop missing values: columns"
   ]
  },
  {
   "cell_type": "code",
   "execution_count": null,
   "id": "3842ea9b",
   "metadata": {},
   "outputs": [],
   "source": [
    "# remove all columns with at least one missing value\n",
    "sf_permits_with_na_dropped = sf_permits.dropna(axis=1)\n",
    "\n",
    "# calculate number of dropped columns\n",
    "cols_in_original_dataset = sf_permits.shape[1]\n",
    "cols_in_na_dropped = sf_permits_with_na_dropped.shape[1]\n",
    "dropped_columns = cols_in_original_dataset - cols_in_na_dropped"
   ]
  },
  {
   "cell_type": "markdown",
   "id": "0e749edf",
   "metadata": {},
   "source": [
    "### Fill in missing values automatically"
   ]
  },
  {
   "cell_type": "code",
   "execution_count": null,
   "id": "66c95f42",
   "metadata": {},
   "outputs": [],
   "source": [
    "sf_permits_with_na_imputed = sf_permits.fillna(method='bfill', axis=0).fillna(0)"
   ]
  }
 ],
 "metadata": {
  "kernelspec": {
   "display_name": "Python 3",
   "language": "python",
   "name": "python3"
  },
  "language_info": {
   "codemirror_mode": {
    "name": "ipython",
    "version": 3
   },
   "file_extension": ".py",
   "mimetype": "text/x-python",
   "name": "python",
   "nbconvert_exporter": "python",
   "pygments_lexer": "ipython3",
   "version": "3.8.8"
  }
 },
 "nbformat": 4,
 "nbformat_minor": 5
}
