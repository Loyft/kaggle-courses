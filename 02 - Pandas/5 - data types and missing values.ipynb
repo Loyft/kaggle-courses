{
 "cells": [
  {
   "cell_type": "code",
   "execution_count": null,
   "id": "a95c3d15",
   "metadata": {},
   "outputs": [],
   "source": [
    "# What is the data type of the points column in the dataset?\n",
    "dtype = reviews.points.dtype\n",
    "\n",
    "# Create a Series from entries in the points column, but convert the entries to strings. Hint: strings are str in native Python.\n",
    "point_strings = reviews.points.astype(str)\n",
    "\n",
    "# Sometimes the price column is null. How many reviews in the dataset are missing a price?\n",
    "n_missing_prices = pd.isnull(reviews.price).sum()\n",
    "\n",
    "# What are the most common wine-producing regions? Create a Series counting the number of times each value occurs in the region_1 field. This field is often missing data, so replace missing values with Unknown. Sort in descending order. Your output should look something like this:\n",
    "reviews_per_region = reviews.region_1.fillna('Unknown').value_counts().sort_values(ascending=False)"
   ]
  }
 ],
 "metadata": {
  "kernelspec": {
   "display_name": "Python 3",
   "language": "python",
   "name": "python3"
  },
  "language_info": {
   "codemirror_mode": {
    "name": "ipython",
    "version": 3
   },
   "file_extension": ".py",
   "mimetype": "text/x-python",
   "name": "python",
   "nbconvert_exporter": "python",
   "pygments_lexer": "ipython3",
   "version": "3.8.8"
  }
 },
 "nbformat": 4,
 "nbformat_minor": 5
}
